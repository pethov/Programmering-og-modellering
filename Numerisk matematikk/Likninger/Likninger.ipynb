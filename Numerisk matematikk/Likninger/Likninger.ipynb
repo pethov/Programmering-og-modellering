{
 "cells": [
  {
   "cell_type": "markdown",
   "metadata": {},
   "source": [
    "# Likninger og algoritmer\n",
    "\n",
    "Her skal vi se litt på ulike måter å løse likninger på.\n",
    "\n",
    "## Metode 1: Halveringsmetoden"
   ]
  },
  {
   "cell_type": "code",
   "execution_count": 6,
   "metadata": {},
   "outputs": [
    {
     "name": "stdout",
     "output_type": "stream",
     "text": [
      "0.9999999999854481\n"
     ]
    }
   ],
   "source": [
    "def f(x):\n",
    "    return 2*x - 2\n",
    "\n",
    "a = -10\n",
    "b = 10\n",
    "m = (a + b)/2\n",
    "\n",
    "tol = 1E-10\n",
    "\n",
    "while abs(f(m)) > tol:\n",
    "    if f(a)*f(m) < 0:\n",
    "        b = m\n",
    "    elif f(b)*f(m) < 0:\n",
    "        a = m\n",
    "    m = (a + b)/2\n",
    "\n",
    "print(m)"
   ]
  },
  {
   "cell_type": "code",
   "execution_count": 13,
   "metadata": {},
   "outputs": [
    {
     "name": "stdout",
     "output_type": "stream",
     "text": [
      "Nullpunktet var: -1.2101991474628448 og løkka kjørte 24 ganger\n"
     ]
    }
   ],
   "source": [
    "from pylab import *\n",
    "\n",
    "def g(x):\n",
    "    return x**6 - 3*x**5 - 2*x**2 - 8\n",
    "\n",
    "def halverings(a,b,f,tol=1E-5):\n",
    "    m = (a + b)/2\n",
    "    i = 0\n",
    "    while abs(f(m)) > tol:\n",
    "        if f(a)*f(m) < 0:\n",
    "            b = m\n",
    "        elif f(b)*f(m) < 0:\n",
    "            a = m\n",
    "        m = (a + b)/2\n",
    "        i = i + 1\n",
    "    return m, i\n",
    "\n",
    "nullpunkt, antall = halverings(-5,10,g)\n",
    "print(\"Nullpunktet var:\", nullpunkt, \"og løkka kjørte\",antall,\"ganger\")"
   ]
  },
  {
   "cell_type": "code",
   "execution_count": null,
   "metadata": {},
   "outputs": [],
   "source": []
  }
 ],
 "metadata": {
  "kernelspec": {
   "display_name": "Python 3",
   "language": "python",
   "name": "python3"
  },
  "language_info": {
   "codemirror_mode": {
    "name": "ipython",
    "version": 3
   },
   "file_extension": ".py",
   "mimetype": "text/x-python",
   "name": "python",
   "nbconvert_exporter": "python",
   "pygments_lexer": "ipython3",
   "version": "3.7.5"
  }
 },
 "nbformat": 4,
 "nbformat_minor": 2
}
