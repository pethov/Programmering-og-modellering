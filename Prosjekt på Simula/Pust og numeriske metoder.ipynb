{
 "cells": [
  {
   "cell_type": "markdown",
   "metadata": {},
   "source": [
    "# Pust og numeriske metoder\n",
    "Sagar Sen, Senior Research Scientist, Simula Research Laboratory\n",
    "\n",
    "*Læringsmål*:\n",
    "- Forklare hva pust er og hvordan det kan måles.\n",
    "- Lese og illustrere data fra målinger av pust.\n",
    "- Forklare hva som menes med *normalisering*.\n",
    "- Normalisere data.\n",
    "- Derivere data.\n",
    "- Forklare hva dataene og de deriverte av dataene sier oss.\n",
    "- Finne nullpunktene i et større datasett."
   ]
  },
  {
   "cell_type": "markdown",
   "metadata": {},
   "source": [
    "## Theory\n",
    "### What is breathing?\n",
    "\n",
    "\n",
    "_\"Breathing is the process of taking air into and expelling it from the lungs.\"_\n",
    "\n",
    "<img src=\"./images/Diaphragmatic_breathing.gif\" alt=\"Alt text that describes the graphic\" title=\"Title text\" height=\"200\" width=\"200\" />\n",
    "\n",
    "### Measurment of breathing using Respiratory Inductance Plethysmography<p>\n",
    "_Respiratory inductance plethysmography (RIP) is a method of evaluating pulmonary ventilation by measuring the movement of the chest and abdominal wall._\n",
    " <img src=\"./images/rip.gif\" alt=\"Respiratory Inductance Plethysmography\" title=\"RIP\" height=\"300\" width=\"300\"/>\n",
    "    \n",
    "The Flow sensor developed by __[Sweetzpot AS](http://www.sweetzpot.com)__ measures breathing from the _expansion_ and _contraction_ of the inspiratory muscles (chest and/or abdomen) and transmits the raw breathing data in _millivolts_ of potential difference across a semi-conductor strain gauge as shown in the figure below. \n",
    "<p> \n",
    " <img src=\"./images/sensorInnerWorking.png\" alt=\"Inner Working of the FLOW Sensor\" title=\"Flow Sensor\" class=\"center\" height=\"500\" width=\"500\" />\n",
    "<p>\n",
    "The trasmission occurs wirelessly using Bluetooth 4.0 to a mobile phone App or to a USB Dongle.\n"
   ]
  },
  {
   "cell_type": "markdown",
   "metadata": {},
   "source": [
    "## Datahåndtering og numeriske metoder\n",
    "Vi skal nå:\n",
    "- Lese eksperimentelle pustedata.\n",
    "- Normalisere dataene.\n",
    "- Derivere dataene.\n",
    "- Finne nullpunktene i datasettet.\n",
    "\n",
    "\n",
    "Først og fremst finner du en eksempelfil under \"BreathingData/sample.csv\". Dette kan du bruke som utgangspunkt. Nå skal du lese inn filene og visualisere dataene (husk at du kan spesifisere filnavnet som \"BreathingData/sample.csv\" slik at du slipper å legge alle filene i samme mappe).\n",
    "\n",
    "**Oppgaver (lese fil):**\n",
    "1. Les fila \"sample.csv\" med *loadtxt*.\n",
    "2. Lag arrayer med verdier for tid (s) og signal (mV). Dette finner du i kolonne 2 og 3 i fila.\n",
    "3. Plott signal mot tid. Diskuter hva grafen forteller dere."
   ]
  },
  {
   "cell_type": "markdown",
   "metadata": {},
   "source": [
    "### Normalisere signalet\n",
    "\n",
    "Når vi normaliserer data, justerer vi verdiene mot hverandre slik at de blir skalert med samme utgangspunkt. Vi ønsker her å normalisere pustesignalet med utgangspunkt i gjennomsnittet av pustesignalene. Dette viser oss hvor mye hver verdi avviker fra gjennomsnittet:\n",
    "\n",
    "$$normalisertSignal[i] = \\dfrac{signal[i]- mean(signal)}{std(signal)}$$\n",
    "\n",
    "der *mean* og *std* er velkjente funksjoner fra *numpy*-biblioteket.\n",
    "\n",
    "**Oppgaver (normalisering):**\n",
    "1. Normaliser signaldataene og legg dette i en egen array/liste.\n",
    "2. Visualiser de normaliserte dataene. Hva forteller disse deg?\n",
    "3. Legg til relevante aksetitler og annet som gjør grafen penere og mer oversiktlig. Sett også på x- og y-akse.\n",
    "4. Bruk *figure* og *xticks* som vist nedenfor til å gjøre figuren større og få kortere avstand mellom x-akseverdier."
   ]
  },
  {
   "cell_type": "code",
   "execution_count": null,
   "metadata": {},
   "outputs": [],
   "source": [
    "figure(figsize=(20,10))\n",
    "xticks(range(int(min(tid)), int(max(tid))))"
   ]
  },
  {
   "cell_type": "markdown",
   "metadata": {},
   "source": [
    "## Lage funksjoner av dataene\n",
    "Mange ganger er det hensiktsmessig å lage en funksjon som vi kan bruke numeriske metoder på, enn å bruke de numeriske metodene på diskrete data."
   ]
  },
  {
   "cell_type": "code",
   "execution_count": null,
   "metadata": {},
   "outputs": [],
   "source": [
    "# Definerer funksjoner fra de diskrete verdiene\n",
    "def f(x):\n",
    "    feilmargin = 0.0001\n",
    "    funksjonsverdi = 0\n",
    "    for i in range(len(tid)):\n",
    "        if abs(tid[i]-x)<=feilmargin:\n",
    "            funksjonsverdi=normaliserte_pustedata[i]\n",
    "    return funksjonsverdi\n",
    "\n",
    "#Definerer den deriverte av pustedataene fra de diskrete verdiene\n",
    "def Df(x):\n",
    "    feilmargin = 0.0001\n",
    "    funksjonsverdi = 0\n",
    "    for i in range(len(tid)):\n",
    "        if abs(tid[i]-x)<=feilmargin:\n",
    "            funksjonsverdi=derivert_signal[i]\n",
    "    return funksjonsverdi"
   ]
  },
  {
   "cell_type": "markdown",
   "metadata": {},
   "source": [
    "**Oppgaver (funksjonstilpasning):**\n",
    "1. Forklar parvis hva hver av disse funksjonene gjør trinn for trinn. Den ene av dere forklarer *f*, den andre forklarer *Df*.\n",
    "2. Hva hadde skjedd om vi hadde brukt halveringsmetoden på datapunktene våre i steden for på funksjonene ovenfor?"
   ]
  },
  {
   "cell_type": "markdown",
   "metadata": {},
   "source": [
    "## Finne nullpunkter\n",
    "Nå skal vi finne nullpunktene til dataene våre.\n",
    "\n",
    "**Oppgaver (nullpunkter):**\n",
    "1. Lag en funksjon *halveringsmetoden(f,a,b,N)* som skal finne nullpunktet til *f* ved å lete maks *N* ganger i intervallet [a,b].\n",
    "2. Lag en *docstring* til funksjonen.\n",
    "3. Gjør metoden mer robust. Den skal returnere nullpunktet hvis den finner det, mens den skal returnere *None* hvis den ikke finner noe (når er det?).\n",
    "4. Test funksjonen i intervallet [2,3]. Her skal den finne nullpunktet *x = 2.75*. \n",
    "5. Hva forteller nullpunktene oss?\n",
    "6. Finn alle nullpunktene ved å undersøke alle intervaller mellom heltallsverdier (mellom 0 og 1, mellom 2 og 3, mellom 3 og 4 osv.).\n",
    "7. Plott alle nullpunktene som prikker i det samme koordinatsystemet som de normaliserte signalene. Ser det ut som om det stemmer?\n",
    "8. Finn til slutt pustefrekvensen ved å ta antall nullpunkter dividert på den totale tida i sekunder."
   ]
  },
  {
   "cell_type": "markdown",
   "metadata": {},
   "source": [
    "## Derivere signalet\n",
    "Den deriverte forteller oss om den momentane endringen i verdiene vi deriverer. Vi benytter her som vanlig Newtons kvotient (framoverdifferansen) som numerisk tilnærming til den deriverte:\n",
    "\n",
    "$$f'(x) \\approx \\frac{f(x+dx) - f(x)}{dx}$$\n",
    "\n",
    "**Oppgaver (derivering):**\n",
    "1. Deriver de normaliserte signaldataene.\n",
    "2. Visualiser de deriverte dataene. Hva forteller disse deg?"
   ]
  },
  {
   "cell_type": "markdown",
   "metadata": {},
   "source": [
    "## Finne nullpunkter 2\n",
    "**Ekstraoppgave:** Finn nullpunktene vha. Newtons metode. Sammenlikn med halveringsmetoden. Hvilken er best? Begrunn svaret."
   ]
  }
 ],
 "metadata": {
  "kernelspec": {
   "display_name": "Python 3",
   "language": "python",
   "name": "python3"
  },
  "language_info": {
   "codemirror_mode": {
    "name": "ipython",
    "version": 3
   },
   "file_extension": ".py",
   "mimetype": "text/x-python",
   "name": "python",
   "nbconvert_exporter": "python",
   "pygments_lexer": "ipython3",
   "version": "3.7.6"
  }
 },
 "nbformat": 4,
 "nbformat_minor": 2
}
